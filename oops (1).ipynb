{
 "cells": [
  {
   "cell_type": "code",
   "execution_count": 1,
   "id": "52ab4507-fac6-4a06-9b41-695fe0ad3074",
   "metadata": {},
   "outputs": [],
   "source": [
    "class Vehicle:\n",
    "    def __init__(self, name_of_vehicle, max_speed, average_speed):\n",
    "        self.name_of_vehicle = name_of_vehicle\n",
    "        self.max_speed = max_speed\n",
    "        self.average_speed = average_speed"
   ]
  },
  {
   "cell_type": "code",
   "execution_count": 4,
   "id": "adfefd0b-5578-4bbf-88a3-3bd4d7199a63",
   "metadata": {},
   "outputs": [],
   "source": [
    "car = Vehicle(\"innova\", 200, 80)"
   ]
  },
  {
   "cell_type": "code",
   "execution_count": 5,
   "id": "378515e1-9ac0-4f70-a82a-cf217bc849db",
   "metadata": {},
   "outputs": [
    {
     "data": {
      "text/plain": [
       "'innova'"
      ]
     },
     "execution_count": 5,
     "metadata": {},
     "output_type": "execute_result"
    }
   ],
   "source": [
    "car.name_of_vehicle"
   ]
  },
  {
   "cell_type": "code",
   "execution_count": 6,
   "id": "1cfb3656-3353-44aa-825b-b45700b039b0",
   "metadata": {},
   "outputs": [
    {
     "data": {
      "text/plain": [
       "200"
      ]
     },
     "execution_count": 6,
     "metadata": {},
     "output_type": "execute_result"
    }
   ],
   "source": [
    "car.max_speed"
   ]
  },
  {
   "cell_type": "code",
   "execution_count": 7,
   "id": "fc990406-196e-4bb8-96c0-e1f9d3b1c10b",
   "metadata": {},
   "outputs": [
    {
     "data": {
      "text/plain": [
       "80"
      ]
     },
     "execution_count": 7,
     "metadata": {},
     "output_type": "execute_result"
    }
   ],
   "source": [
    "car.average_speed"
   ]
  },
  {
   "cell_type": "code",
   "execution_count": null,
   "id": "70ceaee7-3e97-4fa6-87aa-c575744edcd1",
   "metadata": {},
   "outputs": [],
   "source": [
    "Q.2)Create a child class car from the vehicle class created in Que 1, which will inherit the vehicle class.\n",
    "Create a method named seating_capacity which takes capacity as an argument and returns the name of\n",
    "the vehicle and its seating capacity."
   ]
  },
  {
   "cell_type": "code",
   "execution_count": 13,
   "id": "187e728c-933e-4f80-ba29-5e003b9e3a84",
   "metadata": {},
   "outputs": [],
   "source": [
    "class Car(Vehicle):\n",
    "    def __init__(self, name_of_vehicle, max_speed, average_speed):\n",
    "        self.name_of_vehicle = name_of_vehicle\n",
    "        self.max_speed = max_speed\n",
    "        self.average_speed = average_speed\n",
    "        \n",
    "    def seating_capacity(self, capacity):\n",
    "        return \"The {self.name_of_vehicle} has a seating capacity of {capacity}.\"    "
   ]
  },
  {
   "cell_type": "code",
   "execution_count": 14,
   "id": "de3c8e09-daaa-4f76-a0eb-5497140d61f6",
   "metadata": {},
   "outputs": [],
   "source": [
    "car = Car(\"Swift\", 200, 80)"
   ]
  },
  {
   "cell_type": "code",
   "execution_count": 15,
   "id": "7c915a3a-f446-4318-9f80-93b3553d54c9",
   "metadata": {},
   "outputs": [
    {
     "name": "stdout",
     "output_type": "stream",
     "text": [
      "The {self.name_of_vehicle} has a seating capacity of {capacity}.\n"
     ]
    }
   ],
   "source": [
    "print(car.seating_capacity(5))  "
   ]
  },
  {
   "cell_type": "code",
   "execution_count": 16,
   "id": "1549e2c0-8432-4a6b-8157-f72a25d8b6c4",
   "metadata": {},
   "outputs": [
    {
     "data": {
      "text/plain": [
       "'The {self.name_of_vehicle} has a seating capacity of {capacity}.'"
      ]
     },
     "execution_count": 16,
     "metadata": {},
     "output_type": "execute_result"
    }
   ],
   "source": [
    "car.seating_capacity(5)"
   ]
  },
  {
   "cell_type": "code",
   "execution_count": null,
   "id": "455441c2-8c6c-4e52-87f9-2e16e735be34",
   "metadata": {},
   "outputs": [],
   "source": [
    "Q3. What is multiple inheritance? Write a python code to demonstrate multiple inheritance."
   ]
  },
  {
   "cell_type": "code",
   "execution_count": null,
   "id": "d44c9f9b-13f3-46da-acce-a82b436a1949",
   "metadata": {},
   "outputs": [],
   "source": [
    "Multiple inheritance is a feature in object-oriented programming where a class can inherit attributes and behaviors from multiple parent classes.\n",
    "This means that a child class can inherit from more than one base class."
   ]
  },
  {
   "cell_type": "code",
   "execution_count": 29,
   "id": "f5f932c7-0577-403a-9528-c3ed34780888",
   "metadata": {},
   "outputs": [],
   "source": [
    "class Animal:\n",
    "    def __init__(self, name):\n",
    "        self.name = name\n",
    "\n",
    "    def speak(self):\n",
    "        pass\n",
    "\n",
    "\n",
    "class Mammal(Animal):\n",
    "    def speak(self):\n",
    "        return \"Mammal: Roar!\"\n",
    "\n",
    "\n",
    "class Flyable:\n",
    "    def fly(self):\n",
    "        pass\n",
    "\n",
    "\n",
    "class Bird(Animal, Flyable):\n",
    "    def speak(self):\n",
    "        return \"Bird: Chirp!\"\n",
    "\n",
    "    def fly(self):\n",
    "        return \"Bird: Flying high!\""
   ]
  },
  {
   "cell_type": "code",
   "execution_count": 30,
   "id": "abf8660c-9c6d-4910-bd65-83f85b894796",
   "metadata": {},
   "outputs": [],
   "source": [
    "lion = Mammal(\"Lion\")"
   ]
  },
  {
   "cell_type": "code",
   "execution_count": 31,
   "id": "a28e7fc1-bc75-463c-af0e-4b71513c125d",
   "metadata": {},
   "outputs": [
    {
     "name": "stdout",
     "output_type": "stream",
     "text": [
      "Mammal: Roar!\n"
     ]
    }
   ],
   "source": [
    "print(lion.speak()) "
   ]
  },
  {
   "cell_type": "code",
   "execution_count": 32,
   "id": "a3703c1b-2987-4b20-8feb-e32eb22f7078",
   "metadata": {},
   "outputs": [],
   "source": [
    "eagle = Bird(\"Eagle\")"
   ]
  },
  {
   "cell_type": "code",
   "execution_count": 33,
   "id": "4445fcf2-f8e1-401d-83eb-46d499b26395",
   "metadata": {},
   "outputs": [
    {
     "name": "stdout",
     "output_type": "stream",
     "text": [
      "Bird: Chirp!\n"
     ]
    }
   ],
   "source": [
    "print(eagle.speak())"
   ]
  },
  {
   "cell_type": "code",
   "execution_count": 34,
   "id": "366b7a5e-b4d3-49f4-86b2-567673f31a9c",
   "metadata": {},
   "outputs": [
    {
     "name": "stdout",
     "output_type": "stream",
     "text": [
      "Bird: Flying high!\n"
     ]
    }
   ],
   "source": [
    "print(eagle.fly())"
   ]
  },
  {
   "cell_type": "code",
   "execution_count": null,
   "id": "601cb239-8604-4bb0-b988-99f279730ee5",
   "metadata": {},
   "outputs": [],
   "source": [
    "Q4. What are getter and setter in python? Create a class and create a getter and a setter method in this\n",
    "class."
   ]
  },
  {
   "cell_type": "code",
   "execution_count": null,
   "id": "8daea3cc-5437-401e-80ba-f23dfd9723cf",
   "metadata": {},
   "outputs": [],
   "source": [
    "getters and setters are methods used to retrieve and set the values of private attributes (variables) of a class. \n",
    "They provide controlled access to the attributes, allowing you to enforce validation, perform additional logic, \n",
    "or hide the internal representation of the attribute."
   ]
  },
  {
   "cell_type": "code",
   "execution_count": 20,
   "id": "0687814c-171a-4907-b2c0-e636e556c297",
   "metadata": {},
   "outputs": [],
   "source": [
    "class Person:\n",
    "    def __init__(self, name):\n",
    "        self._name = name\n",
    "\n",
    "    def get_name(self):\n",
    "        return self._name\n",
    "\n",
    "    def set_name(self, new_name):\n",
    "        self._name = new_name\n"
   ]
  },
  {
   "cell_type": "code",
   "execution_count": 25,
   "id": "91a8ce0b-440c-4771-9377-cf9e72ddc55f",
   "metadata": {},
   "outputs": [],
   "source": [
    "person = Person(\"Jay\")"
   ]
  },
  {
   "cell_type": "code",
   "execution_count": 26,
   "id": "a8067ee6-6f19-45c5-b18c-fb8f61178cc2",
   "metadata": {},
   "outputs": [
    {
     "data": {
      "text/plain": [
       "'Jay'"
      ]
     },
     "execution_count": 26,
     "metadata": {},
     "output_type": "execute_result"
    }
   ],
   "source": [
    "person.get_name()"
   ]
  },
  {
   "cell_type": "code",
   "execution_count": 27,
   "id": "9e83470e-deaa-4d8b-9e4c-2c3a96d50d5b",
   "metadata": {},
   "outputs": [],
   "source": [
    "person.set_name(\"shiv\")"
   ]
  },
  {
   "cell_type": "code",
   "execution_count": 28,
   "id": "14ceb071-8f6a-4bd2-a653-13bf9db58e6f",
   "metadata": {},
   "outputs": [
    {
     "data": {
      "text/plain": [
       "'shiv'"
      ]
     },
     "execution_count": 28,
     "metadata": {},
     "output_type": "execute_result"
    }
   ],
   "source": [
    "person.get_name()"
   ]
  },
  {
   "cell_type": "code",
   "execution_count": null,
   "id": "d3e01772-32f7-4e21-9563-1071bf2bd354",
   "metadata": {},
   "outputs": [],
   "source": [
    "Q5.What is method overriding in python? Write a python code to demonstrate method overriding."
   ]
  },
  {
   "cell_type": "code",
   "execution_count": null,
   "id": "a3be9f3b-e27d-4f79-9f14-247c25523845",
   "metadata": {},
   "outputs": [],
   "source": [
    "Method overriding is a feature in object-oriented programming where a derived class provides a different implementation of a method that is already defined in its parent class. \n",
    "It allows the derived class to modify or extend the behavior of the inherited method."
   ]
  },
  {
   "cell_type": "code",
   "execution_count": 41,
   "id": "01e35f98-9c75-4550-bfa5-2580fcc3b549",
   "metadata": {},
   "outputs": [],
   "source": [
    "class Animal:\n",
    "    def speak(self):\n",
    "        return \"Animal: Making generic animal sound.\"\n",
    "\n",
    "\n",
    "class Cat(Animal):\n",
    "    def speak(self):\n",
    "        return \"Cat: Meow!\"\n",
    "\n",
    "\n",
    "class Dog(Animal):\n",
    "    def speak(self):\n",
    "        return \"Dog: Woof!\"\n"
   ]
  },
  {
   "cell_type": "code",
   "execution_count": 42,
   "id": "82957d2b-7d86-46de-9227-74766f69e6c6",
   "metadata": {},
   "outputs": [],
   "source": [
    "animal = Animal()"
   ]
  },
  {
   "cell_type": "code",
   "execution_count": 43,
   "id": "cd99804f-6f7d-47a3-a3c5-f3298f6253fd",
   "metadata": {},
   "outputs": [
    {
     "data": {
      "text/plain": [
       "'Animal: Making generic animal sound.'"
      ]
     },
     "execution_count": 43,
     "metadata": {},
     "output_type": "execute_result"
    }
   ],
   "source": [
    "animal.speak()"
   ]
  },
  {
   "cell_type": "code",
   "execution_count": 44,
   "id": "657339c1-2938-4b7b-9bce-519af4e4dff0",
   "metadata": {},
   "outputs": [],
   "source": [
    "cat = Cat()"
   ]
  },
  {
   "cell_type": "code",
   "execution_count": 45,
   "id": "ea1b5531-99da-47a4-8b18-2e385ee7ffd1",
   "metadata": {},
   "outputs": [
    {
     "data": {
      "text/plain": [
       "'Cat: Meow!'"
      ]
     },
     "execution_count": 45,
     "metadata": {},
     "output_type": "execute_result"
    }
   ],
   "source": [
    "cat.speak()     "
   ]
  },
  {
   "cell_type": "code",
   "execution_count": 46,
   "id": "a24a048b-95a5-4fc8-b90f-454254fe9e5b",
   "metadata": {},
   "outputs": [],
   "source": [
    "dog = Dog() "
   ]
  },
  {
   "cell_type": "code",
   "execution_count": 47,
   "id": "12fbc83e-e78c-4aeb-92c2-cd45d60d962e",
   "metadata": {},
   "outputs": [
    {
     "data": {
      "text/plain": [
       "'Dog: Woof!'"
      ]
     },
     "execution_count": 47,
     "metadata": {},
     "output_type": "execute_result"
    }
   ],
   "source": [
    "dog.speak() "
   ]
  },
  {
   "cell_type": "code",
   "execution_count": null,
   "id": "6ce12a6e-01fb-47bc-906b-542a974eb7c2",
   "metadata": {},
   "outputs": [],
   "source": []
  }
 ],
 "metadata": {
  "kernelspec": {
   "display_name": "Python 3 (ipykernel)",
   "language": "python",
   "name": "python3"
  },
  "language_info": {
   "codemirror_mode": {
    "name": "ipython",
    "version": 3
   },
   "file_extension": ".py",
   "mimetype": "text/x-python",
   "name": "python",
   "nbconvert_exporter": "python",
   "pygments_lexer": "ipython3",
   "version": "3.10.8"
  }
 },
 "nbformat": 4,
 "nbformat_minor": 5
}
